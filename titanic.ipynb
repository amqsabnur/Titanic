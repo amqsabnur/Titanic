{
 "cells": [
  {
   "cell_type": "code",
   "execution_count": 18,
   "metadata": {},
   "outputs": [
    {
     "name": "stdout",
     "output_type": "stream",
     "text": [
      "   PassengerId  Survived  Pclass     Sex   Age     Fare\n",
      "0            1         0       3    male  22.0   7.2500\n",
      "1            2         1       1  female  38.0  71.2833\n",
      "2            3         1       3  female  26.0   7.9250\n",
      "3            4         1       1  female  35.0  53.1000\n",
      "4            5         0       3    male  35.0   8.0500\n",
      "PassengerId    891\n",
      "Survived       891\n",
      "Pclass         891\n",
      "Sex            891\n",
      "Age            714\n",
      "Fare           891\n",
      "dtype: int64\n",
      "PassengerId    418\n",
      "Pclass         418\n",
      "Sex            418\n",
      "Age            332\n",
      "Fare           417\n",
      "dtype: int64\n"
     ]
    }
   ],
   "source": [
    "import pandas as pd\n",
    "from sklearn.tree import DecisionTreeClassifier\n",
    "from sklearn.metrics import accuracy_score\n",
    "import numpy as np\n",
    "\n",
    "train = pd.read_csv('../input/train.csv')\n",
    "test = pd.read_csv('../input/test.csv')\n",
    "\n",
    "#Drop features we are not going to use\n",
    "train = train.drop(['Name','SibSp','Parch', 'Ticket', 'Cabin', 'Embarked'],axis=1)\n",
    "test = test.drop(['Name','SibSp','Parch', 'Ticket', 'Cabin', 'Embarked'],axis=1)\n",
    "\n",
    "#Look at the first 5 rows of our training data\n",
    "print(train.head(5))\n",
    "\n",
    "#count number of elements in each column\n",
    "#easy way to see if there are any missing values in any column\n",
    "print(train.count())\n",
    "print(test.count())"
   ]
  },
  {
   "cell_type": "code",
   "execution_count": 19,
   "metadata": {},
   "outputs": [],
   "source": [
    "data = [train, test]\n",
    "\n",
    "#convert al columns to numerical\n",
    "#Convert male,female to [1,0] so the decision tree can be built\n",
    "genders = {\"male\": 0, \"female\": 1}\n",
    "for dataset in data:\n",
    "    dataset['Sex'] = dataset['Sex'].map(genders)\n",
    "\n",
    "#fill missing age with average age\n",
    "train['Age'].fillna(value = train['Age'].mean(), inplace = True)  \n",
    "test['Age'].fillna(value = train['Age'].mean(), inplace = True)\n",
    "\n",
    "#fill missing fare in test dataset with average Fare\n",
    "test['Fare'].fillna(value = train['Fare'].mean(), inplace = True)\n",
    "\n",
    "#feature column names and target variable we are going to use for training\n",
    "features = ['Pclass','Age','Fare','Sex_binary']\n"
   ]
  },
  {
   "cell_type": "code",
   "execution_count": 21,
   "metadata": {},
   "outputs": [],
   "source": [
    "#split the training and test values to use it for implementing models\n",
    "from sklearn.model_selection import train_test_split\n",
    "\n",
    "predictors = train.drop(['Survived', 'PassengerId'], axis=1)\n",
    "target = train[\"Survived\"]\n",
    "x_train, x_val, y_train, y_val = train_test_split(predictors, target, test_size = 0.32, random_state = 0)"
   ]
  },
  {
   "cell_type": "markdown",
   "metadata": {},
   "source": [
    "### decision tree implmentation and evaluation"
   ]
  },
  {
   "cell_type": "code",
   "execution_count": 7,
   "metadata": {},
   "outputs": [
    {
     "name": "stdout",
     "output_type": "stream",
     "text": [
      "80.77\n"
     ]
    }
   ],
   "source": [
    "from sklearn.tree import DecisionTreeClassifier\n",
    "\n",
    "#default Decision tree hyperparameters\n",
    "decisiontree = DecisionTreeClassifier(max_depth=4)\n",
    "decisiontree.fit(x_train, y_train)\n",
    "y_pred = decisiontree.predict(x_val)\n",
    "acc_decisiontree = round(accuracy_score(y_pred, y_val) * 100, 2)\n",
    "print(acc_decisiontree)\n"
   ]
  },
  {
   "cell_type": "code",
   "execution_count": 16,
   "metadata": {},
   "outputs": [
    {
     "name": "stdout",
     "output_type": "stream",
     "text": [
      "79.72\n"
     ]
    }
   ],
   "source": [
    "from sklearn.tree import DecisionTreeClassifier\n",
    "\n",
    "#default Decision tree hyperparameters\n",
    "decisiontree_clf = DecisionTreeClassifier()\n",
    "decisiontree_clf.fit(x_train, y_train)\n",
    "y_pred = decisiontree_clf.predict(x_val)\n",
    "\n",
    "#evaluating accuracy\n",
    "acc_decisiontree = round(accuracy_score(y_pred, y_val) * 100, 2)\n",
    "print(acc_decisiontree)\n"
   ]
  },
  {
   "cell_type": "code",
   "execution_count": 17,
   "metadata": {},
   "outputs": [
    {
     "name": "stdout",
     "output_type": "stream",
     "text": [
      "81.12\n"
     ]
    }
   ],
   "source": [
    "#Decision tree with custom hyperparameters\n",
    "decisiontree_clf2 = DecisionTreeClassifier(max_depth=4, max_leaf_nodes=10)\n",
    "decisiontree_clf2.fit(x_train, y_train)\n",
    "y_pred = decisiontree_clf2.predict(x_val)\n",
    "\n",
    "#evaluating accuracy\n",
    "acc_decisiontree = round(accuracy_score(y_pred, y_val) * 100, 2)\n",
    "print(acc_decisiontree)"
   ]
  },
  {
   "cell_type": "markdown",
   "metadata": {},
   "source": [
    "### decision tree visualization"
   ]
  },
  {
   "cell_type": "code",
   "execution_count": 26,
   "metadata": {},
   "outputs": [],
   "source": [
    "from sklearn.tree import export_graphviz\n",
    "export_graphviz(decisiontree_clf, out_file= (\"decision_tree.dot\"),\n",
    "               feature_names = features,\n",
    "               class_names= ['Survived','Did not Survive'],\n",
    "               rounded = True,\n",
    "               filled = True)\n",
    "# outputs a cute treeeee danmmm"
   ]
  },
  {
   "cell_type": "code",
   "execution_count": null,
   "metadata": {},
   "outputs": [],
   "source": []
  }
 ],
 "metadata": {
  "kernelspec": {
   "display_name": "Python 3",
   "language": "python",
   "name": "python3"
  },
  "language_info": {
   "codemirror_mode": {
    "name": "ipython",
    "version": 3
   },
   "file_extension": ".py",
   "mimetype": "text/x-python",
   "name": "python",
   "nbconvert_exporter": "python",
   "pygments_lexer": "ipython3",
   "version": "3.8.3"
  }
 },
 "nbformat": 4,
 "nbformat_minor": 4
}
